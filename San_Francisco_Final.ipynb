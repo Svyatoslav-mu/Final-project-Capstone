{
 "cells": [
  {
   "cell_type": "markdown",
   "metadata": {},
   "source": [
    "# Peer-graded Assignment: Capstone Project - The Battle of Neighborhoods \n",
    "Now that you have been equipped with the skills and the tools to use location data to explore a geographical location, over the course of two weeks, you will have the opportunity to be as creative as you want and come up with an idea to leverage the Foursquare location data to explore or compare neighborhoods or cities of your choice or to come up with a problem that you can use the Foursquare location data to solve.\n",
    "\n",
    "## 1) Introduction/Business Problem\n",
    "Clearly define a problem or an idea of your choice, where you would need to leverage the Foursquare location data to solve or execute. Remember that data science problems always target an audience and are meant to help a group of stakeholders solve a problem, so make sure that you explicitly describe your audience and why they would care about your problem.\n",
    "\n",
    "__The idea of this study is to help people planning their journey in the San Francisco. It will help them to choose the right route where the crime is low.__\n",
    "\n",
    "\n",
    "## 2) Data\n",
    "Describe the data that you will be using to solve the problem or execute your idea. Remember that you will need to use the Foursquare location data to solve the problem or execute your idea. You can absolutely use other datasets in combination with the Foursquare location data. So make sure that you provide adequate explanation and discussion, with examples, of the data that you will be using, even if it is only Foursquare location data.\n",
    "\n",
    "__To help people we will use dataset from site San Francisco police department. It contains data from 2003 to 2018.  \n",
    "Site: https://datasf.org/__\n",
    "\n",
    "\n",
    "## 3) Methodology\n",
    "\n",
    "Methodology section which represents the main component of the report where you discuss and describe any exploratory data analysis that you did, any inferential statistical testing that you performed, and what machine learnings were used and why.  \n",
    "__For this report, I used data on crimes in San Francisco, depicted the dependence of crimes from month and year or hour. In the end, I built several models to predict new crimes.__\n",
    "\n",
    "## 4) Results\n",
    "Results section where you discuss the results.\n",
    "\n",
    "__Comparing the data, we can see that crimes often occur on Thursday, lunchtime and late afternoon.__\n",
    "\n",
    "## 5) Discussion\n",
    "\n",
    "Discussion section where you discuss any observations you noted and any recommendations you can make based on the results.\n",
    "\n",
    "__It was interesting to see the history of crimes in a large city like Chicago, to find out when if crimes happen, and so on.__\n",
    "\n",
    "## 6) Conclusion\n",
    "Conclusion section where you conclude the report.\n",
    "\n",
    "__I hope my this research will help people planning their journey in the San Francisco. If I visit San Francisco, firstly, I will use this my research.__"
   ]
  },
  {
   "cell_type": "markdown",
   "metadata": {},
   "source": [
    "## Import Libraries"
   ]
  },
  {
   "cell_type": "markdown",
   "metadata": {},
   "source": [
    "In this section we import the libraries that will be required to process the data."
   ]
  },
  {
   "cell_type": "code",
   "execution_count": 1,
   "metadata": {},
   "outputs": [],
   "source": [
    "import pandas as pd\n",
    "pd.set_option('display.max_columns', None)\n",
    "pd.set_option('display.max_rows', None)\n",
    "\n",
    "import numpy as np"
   ]
  },
  {
   "cell_type": "code",
   "execution_count": 2,
   "metadata": {},
   "outputs": [],
   "source": [
    "%matplotlib inline \n",
    "\n",
    "import matplotlib as mpl\n",
    "import matplotlib.pyplot as plt\n",
    "\n",
    "import seaborn as sns"
   ]
  },
  {
   "cell_type": "code",
   "execution_count": 3,
   "metadata": {},
   "outputs": [],
   "source": [
    "# Use Folium to display the Maps for Visualisation\n",
    "import folium\n",
    "from folium.plugins import MarkerCluster\n",
    "from folium.plugins import FastMarkerCluster\n",
    "from folium import plugins\n"
   ]
  },
  {
   "cell_type": "code",
   "execution_count": 4,
   "metadata": {},
   "outputs": [],
   "source": [
    "# Module to convert an address into latitude and longitude values\n",
    "from geopy.geocoders import Nominatim"
   ]
  },
  {
   "cell_type": "code",
   "execution_count": 5,
   "metadata": {},
   "outputs": [],
   "source": [
    "# All the SciKit Learn Libraries Required\n",
    "from sklearn import preprocessing\n",
    "from sklearn.model_selection import train_test_split\n",
    "from sklearn.neighbors import KNeighborsClassifier\n",
    "from sklearn.naive_bayes import BernoulliNB\n",
    "from sklearn.ensemble import RandomForestClassifier\n",
    "from sklearn import metrics\n",
    "from sklearn.model_selection import KFold, cross_val_score\n"
   ]
  },
  {
   "cell_type": "markdown",
   "metadata": {},
   "source": [
    "## Import the DataSet"
   ]
  },
  {
   "cell_type": "code",
   "execution_count": 6,
   "metadata": {},
   "outputs": [],
   "source": [
    "#data were taken from https://data.sfgov.org/Public-Safety/Police-Department-Incident-Reports-Historical-2003/tmnf-yvry/data\n",
    "df = pd.read_csv('Police_Department_Incident_Reports__Historical_2003_to_May_2018.csv')"
   ]
  },
  {
   "cell_type": "code",
   "execution_count": 7,
   "metadata": {},
   "outputs": [
    {
     "name": "stdout",
     "output_type": "stream",
     "text": [
      "<class 'pandas.core.frame.DataFrame'>\n",
      "RangeIndex: 2215024 entries, 0 to 2215023\n",
      "Data columns (total 33 columns):\n",
      "IncidntNum                                              int64\n",
      "Category                                                object\n",
      "Descript                                                object\n",
      "DayOfWeek                                               object\n",
      "Date                                                    object\n",
      "Time                                                    object\n",
      "PdDistrict                                              object\n",
      "Resolution                                              object\n",
      "Address                                                 object\n",
      "X                                                       float64\n",
      "Y                                                       float64\n",
      "Location                                                object\n",
      "PdId                                                    int64\n",
      "SF Find Neighborhoods                                   float64\n",
      "Current Police Districts                                float64\n",
      "Current Supervisor Districts                            float64\n",
      "Analysis Neighborhoods                                  float64\n",
      "DELETE - Fire Prevention Districts                      float64\n",
      "DELETE - Police Districts                               float64\n",
      "DELETE - Supervisor Districts                           float64\n",
      "DELETE - Zip Codes                                      object\n",
      "DELETE - Neighborhoods                                  float64\n",
      "DELETE - 2017 Fix It Zones                              float64\n",
      "Civic Center Harm Reduction Project Boundary            float64\n",
      "Fix It Zones as of 2017-11-06                           float64\n",
      "DELETE - HSOC Zones                                     float64\n",
      "Fix It Zones as of 2018-02-07                           float64\n",
      "CBD, BID and GBD Boundaries as of 2017                  float64\n",
      "Areas of Vulnerability, 2016                            float64\n",
      "Central Market/Tenderloin Boundary                      float64\n",
      "Central Market/Tenderloin Boundary Polygon - Updated    float64\n",
      "HSOC Zones as of 2018-06-05                             float64\n",
      "OWED Public Spaces                                      float64\n",
      "dtypes: float64(21), int64(2), object(10)\n",
      "memory usage: 557.7+ MB\n"
     ]
    }
   ],
   "source": [
    "df.info()"
   ]
  },
  {
   "cell_type": "code",
   "execution_count": 8,
   "metadata": {},
   "outputs": [
    {
     "data": {
      "text/html": [
       "<div>\n",
       "<style scoped>\n",
       "    .dataframe tbody tr th:only-of-type {\n",
       "        vertical-align: middle;\n",
       "    }\n",
       "\n",
       "    .dataframe tbody tr th {\n",
       "        vertical-align: top;\n",
       "    }\n",
       "\n",
       "    .dataframe thead th {\n",
       "        text-align: right;\n",
       "    }\n",
       "</style>\n",
       "<table border=\"1\" class=\"dataframe\">\n",
       "  <thead>\n",
       "    <tr style=\"text-align: right;\">\n",
       "      <th></th>\n",
       "      <th>IncidntNum</th>\n",
       "      <th>Category</th>\n",
       "      <th>Descript</th>\n",
       "      <th>DayOfWeek</th>\n",
       "      <th>Date</th>\n",
       "      <th>Time</th>\n",
       "      <th>PdDistrict</th>\n",
       "      <th>Resolution</th>\n",
       "      <th>Address</th>\n",
       "      <th>X</th>\n",
       "      <th>Y</th>\n",
       "      <th>Location</th>\n",
       "      <th>PdId</th>\n",
       "      <th>SF Find Neighborhoods</th>\n",
       "      <th>Current Police Districts</th>\n",
       "      <th>Current Supervisor Districts</th>\n",
       "      <th>Analysis Neighborhoods</th>\n",
       "      <th>DELETE - Fire Prevention Districts</th>\n",
       "      <th>DELETE - Police Districts</th>\n",
       "      <th>DELETE - Supervisor Districts</th>\n",
       "      <th>DELETE - Zip Codes</th>\n",
       "      <th>DELETE - Neighborhoods</th>\n",
       "      <th>DELETE - 2017 Fix It Zones</th>\n",
       "      <th>Civic Center Harm Reduction Project Boundary</th>\n",
       "      <th>Fix It Zones as of 2017-11-06</th>\n",
       "      <th>DELETE - HSOC Zones</th>\n",
       "      <th>Fix It Zones as of 2018-02-07</th>\n",
       "      <th>CBD, BID and GBD Boundaries as of 2017</th>\n",
       "      <th>Areas of Vulnerability, 2016</th>\n",
       "      <th>Central Market/Tenderloin Boundary</th>\n",
       "      <th>Central Market/Tenderloin Boundary Polygon - Updated</th>\n",
       "      <th>HSOC Zones as of 2018-06-05</th>\n",
       "      <th>OWED Public Spaces</th>\n",
       "    </tr>\n",
       "  </thead>\n",
       "  <tbody>\n",
       "    <tr>\n",
       "      <td>0</td>\n",
       "      <td>146196161</td>\n",
       "      <td>NON-CRIMINAL</td>\n",
       "      <td>LOST PROPERTY</td>\n",
       "      <td>Tuesday</td>\n",
       "      <td>09/23/2014</td>\n",
       "      <td>01:00</td>\n",
       "      <td>SOUTHERN</td>\n",
       "      <td>NONE</td>\n",
       "      <td>800 Block of BRYANT ST</td>\n",
       "      <td>-122.403405</td>\n",
       "      <td>37.775421</td>\n",
       "      <td>POINT (-122.403404791479 37.775420706711)</td>\n",
       "      <td>14619616171000</td>\n",
       "      <td>32.0</td>\n",
       "      <td>1.0</td>\n",
       "      <td>10.0</td>\n",
       "      <td>34.0</td>\n",
       "      <td>14.0</td>\n",
       "      <td>2.0</td>\n",
       "      <td>9.0</td>\n",
       "      <td>28,853</td>\n",
       "      <td>34.0</td>\n",
       "      <td>NaN</td>\n",
       "      <td>NaN</td>\n",
       "      <td>NaN</td>\n",
       "      <td>NaN</td>\n",
       "      <td>NaN</td>\n",
       "      <td>NaN</td>\n",
       "      <td>2.0</td>\n",
       "      <td>NaN</td>\n",
       "      <td>NaN</td>\n",
       "      <td>NaN</td>\n",
       "      <td>NaN</td>\n",
       "    </tr>\n",
       "    <tr>\n",
       "      <td>1</td>\n",
       "      <td>150045675</td>\n",
       "      <td>ASSAULT</td>\n",
       "      <td>BATTERY</td>\n",
       "      <td>Thursday</td>\n",
       "      <td>01/15/2015</td>\n",
       "      <td>17:00</td>\n",
       "      <td>TARAVAL</td>\n",
       "      <td>NONE</td>\n",
       "      <td>1800 Block of VICENTE ST</td>\n",
       "      <td>-122.485604</td>\n",
       "      <td>37.738821</td>\n",
       "      <td>POINT (-122.48560378101 37.7388214326705)</td>\n",
       "      <td>15004567504134</td>\n",
       "      <td>40.0</td>\n",
       "      <td>10.0</td>\n",
       "      <td>7.0</td>\n",
       "      <td>35.0</td>\n",
       "      <td>1.0</td>\n",
       "      <td>8.0</td>\n",
       "      <td>3.0</td>\n",
       "      <td>29,491</td>\n",
       "      <td>35.0</td>\n",
       "      <td>NaN</td>\n",
       "      <td>NaN</td>\n",
       "      <td>NaN</td>\n",
       "      <td>NaN</td>\n",
       "      <td>NaN</td>\n",
       "      <td>NaN</td>\n",
       "      <td>1.0</td>\n",
       "      <td>NaN</td>\n",
       "      <td>NaN</td>\n",
       "      <td>NaN</td>\n",
       "      <td>NaN</td>\n",
       "    </tr>\n",
       "    <tr>\n",
       "      <td>2</td>\n",
       "      <td>140632022</td>\n",
       "      <td>SUSPICIOUS OCC</td>\n",
       "      <td>INVESTIGATIVE DETENTION</td>\n",
       "      <td>Wednesday</td>\n",
       "      <td>07/30/2014</td>\n",
       "      <td>09:32</td>\n",
       "      <td>BAYVIEW</td>\n",
       "      <td>NONE</td>\n",
       "      <td>100 Block of GILLETTE AV</td>\n",
       "      <td>-122.396535</td>\n",
       "      <td>37.710660</td>\n",
       "      <td>POINT (-122.396535107224 37.7106603302503)</td>\n",
       "      <td>14063202264085</td>\n",
       "      <td>89.0</td>\n",
       "      <td>2.0</td>\n",
       "      <td>9.0</td>\n",
       "      <td>1.0</td>\n",
       "      <td>10.0</td>\n",
       "      <td>3.0</td>\n",
       "      <td>8.0</td>\n",
       "      <td>309</td>\n",
       "      <td>1.0</td>\n",
       "      <td>NaN</td>\n",
       "      <td>NaN</td>\n",
       "      <td>NaN</td>\n",
       "      <td>NaN</td>\n",
       "      <td>NaN</td>\n",
       "      <td>NaN</td>\n",
       "      <td>1.0</td>\n",
       "      <td>NaN</td>\n",
       "      <td>NaN</td>\n",
       "      <td>NaN</td>\n",
       "      <td>NaN</td>\n",
       "    </tr>\n",
       "    <tr>\n",
       "      <td>3</td>\n",
       "      <td>150383259</td>\n",
       "      <td>ASSAULT</td>\n",
       "      <td>BATTERY</td>\n",
       "      <td>Saturday</td>\n",
       "      <td>05/02/2015</td>\n",
       "      <td>23:10</td>\n",
       "      <td>BAYVIEW</td>\n",
       "      <td>ARREST, BOOKED</td>\n",
       "      <td>2400 Block of PHELPS ST</td>\n",
       "      <td>-122.400131</td>\n",
       "      <td>37.730093</td>\n",
       "      <td>POINT (-122.400130573297 37.7300925390327)</td>\n",
       "      <td>15038325904134</td>\n",
       "      <td>87.0</td>\n",
       "      <td>2.0</td>\n",
       "      <td>9.0</td>\n",
       "      <td>1.0</td>\n",
       "      <td>10.0</td>\n",
       "      <td>3.0</td>\n",
       "      <td>8.0</td>\n",
       "      <td>58</td>\n",
       "      <td>1.0</td>\n",
       "      <td>NaN</td>\n",
       "      <td>NaN</td>\n",
       "      <td>NaN</td>\n",
       "      <td>NaN</td>\n",
       "      <td>NaN</td>\n",
       "      <td>NaN</td>\n",
       "      <td>2.0</td>\n",
       "      <td>NaN</td>\n",
       "      <td>NaN</td>\n",
       "      <td>NaN</td>\n",
       "      <td>NaN</td>\n",
       "    </tr>\n",
       "    <tr>\n",
       "      <td>4</td>\n",
       "      <td>40753980</td>\n",
       "      <td>OTHER OFFENSES</td>\n",
       "      <td>RECKLESS DRIVING</td>\n",
       "      <td>Friday</td>\n",
       "      <td>07/02/2004</td>\n",
       "      <td>13:43</td>\n",
       "      <td>BAYVIEW</td>\n",
       "      <td>NONE</td>\n",
       "      <td>I-280 / CESAR CHAVEZ ST</td>\n",
       "      <td>-120.500000</td>\n",
       "      <td>90.000000</td>\n",
       "      <td>POINT (-120.5 90)</td>\n",
       "      <td>4075398065020</td>\n",
       "      <td>NaN</td>\n",
       "      <td>NaN</td>\n",
       "      <td>NaN</td>\n",
       "      <td>NaN</td>\n",
       "      <td>NaN</td>\n",
       "      <td>NaN</td>\n",
       "      <td>NaN</td>\n",
       "      <td>NaN</td>\n",
       "      <td>NaN</td>\n",
       "      <td>NaN</td>\n",
       "      <td>NaN</td>\n",
       "      <td>NaN</td>\n",
       "      <td>NaN</td>\n",
       "      <td>NaN</td>\n",
       "      <td>NaN</td>\n",
       "      <td>NaN</td>\n",
       "      <td>NaN</td>\n",
       "      <td>NaN</td>\n",
       "      <td>NaN</td>\n",
       "      <td>NaN</td>\n",
       "    </tr>\n",
       "  </tbody>\n",
       "</table>\n",
       "</div>"
      ],
      "text/plain": [
       "   IncidntNum        Category                 Descript  DayOfWeek        Date  \\\n",
       "0   146196161    NON-CRIMINAL            LOST PROPERTY    Tuesday  09/23/2014   \n",
       "1   150045675         ASSAULT                  BATTERY   Thursday  01/15/2015   \n",
       "2   140632022  SUSPICIOUS OCC  INVESTIGATIVE DETENTION  Wednesday  07/30/2014   \n",
       "3   150383259         ASSAULT                  BATTERY   Saturday  05/02/2015   \n",
       "4    40753980  OTHER OFFENSES         RECKLESS DRIVING     Friday  07/02/2004   \n",
       "\n",
       "    Time PdDistrict      Resolution                   Address           X  \\\n",
       "0  01:00   SOUTHERN            NONE    800 Block of BRYANT ST -122.403405   \n",
       "1  17:00    TARAVAL            NONE  1800 Block of VICENTE ST -122.485604   \n",
       "2  09:32    BAYVIEW            NONE  100 Block of GILLETTE AV -122.396535   \n",
       "3  23:10    BAYVIEW  ARREST, BOOKED   2400 Block of PHELPS ST -122.400131   \n",
       "4  13:43    BAYVIEW            NONE   I-280 / CESAR CHAVEZ ST -120.500000   \n",
       "\n",
       "           Y                                    Location            PdId  \\\n",
       "0  37.775421   POINT (-122.403404791479 37.775420706711)  14619616171000   \n",
       "1  37.738821   POINT (-122.48560378101 37.7388214326705)  15004567504134   \n",
       "2  37.710660  POINT (-122.396535107224 37.7106603302503)  14063202264085   \n",
       "3  37.730093  POINT (-122.400130573297 37.7300925390327)  15038325904134   \n",
       "4  90.000000                           POINT (-120.5 90)   4075398065020   \n",
       "\n",
       "   SF Find Neighborhoods  Current Police Districts  \\\n",
       "0                   32.0                       1.0   \n",
       "1                   40.0                      10.0   \n",
       "2                   89.0                       2.0   \n",
       "3                   87.0                       2.0   \n",
       "4                    NaN                       NaN   \n",
       "\n",
       "   Current Supervisor Districts  Analysis Neighborhoods  \\\n",
       "0                          10.0                    34.0   \n",
       "1                           7.0                    35.0   \n",
       "2                           9.0                     1.0   \n",
       "3                           9.0                     1.0   \n",
       "4                           NaN                     NaN   \n",
       "\n",
       "   DELETE - Fire Prevention Districts  DELETE - Police Districts  \\\n",
       "0                                14.0                        2.0   \n",
       "1                                 1.0                        8.0   \n",
       "2                                10.0                        3.0   \n",
       "3                                10.0                        3.0   \n",
       "4                                 NaN                        NaN   \n",
       "\n",
       "   DELETE - Supervisor Districts DELETE - Zip Codes  DELETE - Neighborhoods  \\\n",
       "0                            9.0             28,853                    34.0   \n",
       "1                            3.0             29,491                    35.0   \n",
       "2                            8.0                309                     1.0   \n",
       "3                            8.0                 58                     1.0   \n",
       "4                            NaN                NaN                     NaN   \n",
       "\n",
       "   DELETE - 2017 Fix It Zones  Civic Center Harm Reduction Project Boundary  \\\n",
       "0                         NaN                                           NaN   \n",
       "1                         NaN                                           NaN   \n",
       "2                         NaN                                           NaN   \n",
       "3                         NaN                                           NaN   \n",
       "4                         NaN                                           NaN   \n",
       "\n",
       "   Fix It Zones as of 2017-11-06   DELETE - HSOC Zones  \\\n",
       "0                             NaN                  NaN   \n",
       "1                             NaN                  NaN   \n",
       "2                             NaN                  NaN   \n",
       "3                             NaN                  NaN   \n",
       "4                             NaN                  NaN   \n",
       "\n",
       "   Fix It Zones as of 2018-02-07  CBD, BID and GBD Boundaries as of 2017  \\\n",
       "0                            NaN                                     NaN   \n",
       "1                            NaN                                     NaN   \n",
       "2                            NaN                                     NaN   \n",
       "3                            NaN                                     NaN   \n",
       "4                            NaN                                     NaN   \n",
       "\n",
       "   Areas of Vulnerability, 2016  Central Market/Tenderloin Boundary  \\\n",
       "0                           2.0                                 NaN   \n",
       "1                           1.0                                 NaN   \n",
       "2                           1.0                                 NaN   \n",
       "3                           2.0                                 NaN   \n",
       "4                           NaN                                 NaN   \n",
       "\n",
       "   Central Market/Tenderloin Boundary Polygon - Updated  \\\n",
       "0                                                NaN      \n",
       "1                                                NaN      \n",
       "2                                                NaN      \n",
       "3                                                NaN      \n",
       "4                                                NaN      \n",
       "\n",
       "   HSOC Zones as of 2018-06-05  OWED Public Spaces  \n",
       "0                          NaN                 NaN  \n",
       "1                          NaN                 NaN  \n",
       "2                          NaN                 NaN  \n",
       "3                          NaN                 NaN  \n",
       "4                          NaN                 NaN  "
      ]
     },
     "execution_count": 8,
     "metadata": {},
     "output_type": "execute_result"
    }
   ],
   "source": [
    "df.head()"
   ]
  },
  {
   "cell_type": "code",
   "execution_count": 9,
   "metadata": {},
   "outputs": [
    {
     "data": {
      "text/plain": [
       "(2215024, 33)"
      ]
     },
     "execution_count": 9,
     "metadata": {},
     "output_type": "execute_result"
    }
   ],
   "source": [
    "df.shape"
   ]
  },
  {
   "cell_type": "markdown",
   "metadata": {},
   "source": [
    "# Clean up the data and prepare"
   ]
  },
  {
   "cell_type": "code",
   "execution_count": 10,
   "metadata": {},
   "outputs": [
    {
     "data": {
      "text/plain": [
       "IncidntNum                                                    0\n",
       "Category                                                      0\n",
       "Descript                                                      0\n",
       "DayOfWeek                                                     0\n",
       "Date                                                          0\n",
       "Time                                                          0\n",
       "PdDistrict                                                    1\n",
       "Resolution                                                    0\n",
       "Address                                                       0\n",
       "X                                                             0\n",
       "Y                                                             0\n",
       "Location                                                      0\n",
       "PdId                                                          0\n",
       "SF Find Neighborhoods                                      6077\n",
       "Current Police Districts                                   1112\n",
       "Current Supervisor Districts                                661\n",
       "Analysis Neighborhoods                                     1057\n",
       "DELETE - Fire Prevention Districts                         5580\n",
       "DELETE - Police Districts                                  1523\n",
       "DELETE - Supervisor Districts                               661\n",
       "DELETE - Zip Codes                                          495\n",
       "DELETE - Neighborhoods                                     1057\n",
       "DELETE - 2017 Fix It Zones                              1666617\n",
       "Civic Center Harm Reduction Project Boundary            1894819\n",
       "Fix It Zones as of 2017-11-06                           1650528\n",
       "DELETE - HSOC Zones                                     1741230\n",
       "Fix It Zones as of 2018-02-07                           1644859\n",
       "CBD, BID and GBD Boundaries as of 2017                  1650003\n",
       "Areas of Vulnerability, 2016                               1057\n",
       "Central Market/Tenderloin Boundary                      1874086\n",
       "Central Market/Tenderloin Boundary Polygon - Updated    1873898\n",
       "HSOC Zones as of 2018-06-05                             1711576\n",
       "OWED Public Spaces                                      2095933\n",
       "dtype: int64"
      ]
     },
     "execution_count": 10,
     "metadata": {},
     "output_type": "execute_result"
    }
   ],
   "source": [
    " df.isnull().sum()"
   ]
  },
  {
   "cell_type": "code",
   "execution_count": 11,
   "metadata": {},
   "outputs": [],
   "source": [
    "#We take only important columns\n",
    "df_import=df[['IncidntNum','Category','Descript','DayOfWeek','Date','Time','PdDistrict','Address','X','Y','PdId']]"
   ]
  },
  {
   "cell_type": "code",
   "execution_count": 12,
   "metadata": {},
   "outputs": [
    {
     "name": "stdout",
     "output_type": "stream",
     "text": [
      "<class 'pandas.core.frame.DataFrame'>\n",
      "RangeIndex: 2215024 entries, 0 to 2215023\n",
      "Data columns (total 11 columns):\n",
      "IncidntNum    int64\n",
      "Category      object\n",
      "Descript      object\n",
      "DayOfWeek     object\n",
      "Date          object\n",
      "Time          object\n",
      "PdDistrict    object\n",
      "Address       object\n",
      "X             float64\n",
      "Y             float64\n",
      "PdId          int64\n",
      "dtypes: float64(2), int64(2), object(7)\n",
      "memory usage: 185.9+ MB\n"
     ]
    }
   ],
   "source": [
    "df_import.info()"
   ]
  },
  {
   "cell_type": "code",
   "execution_count": 13,
   "metadata": {},
   "outputs": [
    {
     "data": {
      "text/html": [
       "<div>\n",
       "<style scoped>\n",
       "    .dataframe tbody tr th:only-of-type {\n",
       "        vertical-align: middle;\n",
       "    }\n",
       "\n",
       "    .dataframe tbody tr th {\n",
       "        vertical-align: top;\n",
       "    }\n",
       "\n",
       "    .dataframe thead th {\n",
       "        text-align: right;\n",
       "    }\n",
       "</style>\n",
       "<table border=\"1\" class=\"dataframe\">\n",
       "  <thead>\n",
       "    <tr style=\"text-align: right;\">\n",
       "      <th></th>\n",
       "      <th>IncidntNum</th>\n",
       "      <th>Category</th>\n",
       "      <th>Descript</th>\n",
       "      <th>DayOfWeek</th>\n",
       "      <th>Date</th>\n",
       "      <th>Time</th>\n",
       "      <th>PdDistrict</th>\n",
       "      <th>Address</th>\n",
       "      <th>X</th>\n",
       "      <th>Y</th>\n",
       "      <th>PdId</th>\n",
       "    </tr>\n",
       "  </thead>\n",
       "  <tbody>\n",
       "    <tr>\n",
       "      <td>0</td>\n",
       "      <td>146196161</td>\n",
       "      <td>NON-CRIMINAL</td>\n",
       "      <td>LOST PROPERTY</td>\n",
       "      <td>Tuesday</td>\n",
       "      <td>09/23/2014</td>\n",
       "      <td>01:00</td>\n",
       "      <td>SOUTHERN</td>\n",
       "      <td>800 Block of BRYANT ST</td>\n",
       "      <td>-122.403405</td>\n",
       "      <td>37.775421</td>\n",
       "      <td>14619616171000</td>\n",
       "    </tr>\n",
       "    <tr>\n",
       "      <td>1</td>\n",
       "      <td>150045675</td>\n",
       "      <td>ASSAULT</td>\n",
       "      <td>BATTERY</td>\n",
       "      <td>Thursday</td>\n",
       "      <td>01/15/2015</td>\n",
       "      <td>17:00</td>\n",
       "      <td>TARAVAL</td>\n",
       "      <td>1800 Block of VICENTE ST</td>\n",
       "      <td>-122.485604</td>\n",
       "      <td>37.738821</td>\n",
       "      <td>15004567504134</td>\n",
       "    </tr>\n",
       "    <tr>\n",
       "      <td>2</td>\n",
       "      <td>140632022</td>\n",
       "      <td>SUSPICIOUS OCC</td>\n",
       "      <td>INVESTIGATIVE DETENTION</td>\n",
       "      <td>Wednesday</td>\n",
       "      <td>07/30/2014</td>\n",
       "      <td>09:32</td>\n",
       "      <td>BAYVIEW</td>\n",
       "      <td>100 Block of GILLETTE AV</td>\n",
       "      <td>-122.396535</td>\n",
       "      <td>37.710660</td>\n",
       "      <td>14063202264085</td>\n",
       "    </tr>\n",
       "  </tbody>\n",
       "</table>\n",
       "</div>"
      ],
      "text/plain": [
       "   IncidntNum        Category                 Descript  DayOfWeek        Date  \\\n",
       "0   146196161    NON-CRIMINAL            LOST PROPERTY    Tuesday  09/23/2014   \n",
       "1   150045675         ASSAULT                  BATTERY   Thursday  01/15/2015   \n",
       "2   140632022  SUSPICIOUS OCC  INVESTIGATIVE DETENTION  Wednesday  07/30/2014   \n",
       "\n",
       "    Time PdDistrict                   Address           X          Y  \\\n",
       "0  01:00   SOUTHERN    800 Block of BRYANT ST -122.403405  37.775421   \n",
       "1  17:00    TARAVAL  1800 Block of VICENTE ST -122.485604  37.738821   \n",
       "2  09:32    BAYVIEW  100 Block of GILLETTE AV -122.396535  37.710660   \n",
       "\n",
       "             PdId  \n",
       "0  14619616171000  \n",
       "1  15004567504134  \n",
       "2  14063202264085  "
      ]
     },
     "execution_count": 13,
     "metadata": {},
     "output_type": "execute_result"
    }
   ],
   "source": [
    "df_import.head(3)"
   ]
  },
  {
   "cell_type": "markdown",
   "metadata": {},
   "source": [
    "We have to add new column-it will help us to make the models.          \n",
    "Add new columns for the  day, month and year of the crime:  \n",
    "1.Day  \n",
    "2.Month Number  \n",
    "3.Year  \n",
    "4.Year and Month  "
   ]
  },
  {
   "cell_type": "code",
   "execution_count": 14,
   "metadata": {},
   "outputs": [
    {
     "name": "stderr",
     "output_type": "stream",
     "text": [
      "C:\\Users\\slava\\Anaconda3\\lib\\site-packages\\ipykernel_launcher.py:1: SettingWithCopyWarning: \n",
      "A value is trying to be set on a copy of a slice from a DataFrame.\n",
      "Try using .loc[row_indexer,col_indexer] = value instead\n",
      "\n",
      "See the caveats in the documentation: http://pandas.pydata.org/pandas-docs/stable/user_guide/indexing.html#returning-a-view-versus-a-copy\n",
      "  \"\"\"Entry point for launching an IPython kernel.\n"
     ]
    }
   ],
   "source": [
    "df_import['Date'] =  pd.to_datetime(df_import['Date'], format='%m/%d/%Y')"
   ]
  },
  {
   "cell_type": "code",
   "execution_count": 15,
   "metadata": {},
   "outputs": [
    {
     "name": "stderr",
     "output_type": "stream",
     "text": [
      "C:\\Users\\slava\\Anaconda3\\lib\\site-packages\\ipykernel_launcher.py:1: SettingWithCopyWarning: \n",
      "A value is trying to be set on a copy of a slice from a DataFrame.\n",
      "Try using .loc[row_indexer,col_indexer] = value instead\n",
      "\n",
      "See the caveats in the documentation: http://pandas.pydata.org/pandas-docs/stable/user_guide/indexing.html#returning-a-view-versus-a-copy\n",
      "  \"\"\"Entry point for launching an IPython kernel.\n",
      "C:\\Users\\slava\\Anaconda3\\lib\\site-packages\\ipykernel_launcher.py:2: SettingWithCopyWarning: \n",
      "A value is trying to be set on a copy of a slice from a DataFrame.\n",
      "Try using .loc[row_indexer,col_indexer] = value instead\n",
      "\n",
      "See the caveats in the documentation: http://pandas.pydata.org/pandas-docs/stable/user_guide/indexing.html#returning-a-view-versus-a-copy\n",
      "  \n",
      "C:\\Users\\slava\\Anaconda3\\lib\\site-packages\\ipykernel_launcher.py:3: SettingWithCopyWarning: \n",
      "A value is trying to be set on a copy of a slice from a DataFrame.\n",
      "Try using .loc[row_indexer,col_indexer] = value instead\n",
      "\n",
      "See the caveats in the documentation: http://pandas.pydata.org/pandas-docs/stable/user_guide/indexing.html#returning-a-view-versus-a-copy\n",
      "  This is separate from the ipykernel package so we can avoid doing imports until\n",
      "C:\\Users\\slava\\Anaconda3\\lib\\site-packages\\ipykernel_launcher.py:4: SettingWithCopyWarning: \n",
      "A value is trying to be set on a copy of a slice from a DataFrame.\n",
      "Try using .loc[row_indexer,col_indexer] = value instead\n",
      "\n",
      "See the caveats in the documentation: http://pandas.pydata.org/pandas-docs/stable/user_guide/indexing.html#returning-a-view-versus-a-copy\n",
      "  after removing the cwd from sys.path.\n",
      "C:\\Users\\slava\\Anaconda3\\lib\\site-packages\\ipykernel_launcher.py:5: SettingWithCopyWarning: \n",
      "A value is trying to be set on a copy of a slice from a DataFrame.\n",
      "Try using .loc[row_indexer,col_indexer] = value instead\n",
      "\n",
      "See the caveats in the documentation: http://pandas.pydata.org/pandas-docs/stable/user_guide/indexing.html#returning-a-view-versus-a-copy\n",
      "  \"\"\"\n"
     ]
    }
   ],
   "source": [
    "df_import['Day'] = df_import['Date'].dt.day\n",
    "df_import['month'] = df_import['Date'].dt.month\n",
    "df_import['year'] = df_import['Date'].dt.year\n",
    "df_import['year_month'] = df_import['Date'].dt.to_period('M')\n",
    "df_import['hour']=pd.to_datetime(df_import['Time'], format='%H:%M').dt.hour"
   ]
  },
  {
   "cell_type": "code",
   "execution_count": 16,
   "metadata": {},
   "outputs": [
    {
     "data": {
      "text/plain": [
       "IncidntNum    0\n",
       "Category      0\n",
       "Descript      0\n",
       "DayOfWeek     0\n",
       "Date          0\n",
       "Time          0\n",
       "PdDistrict    1\n",
       "Address       0\n",
       "X             0\n",
       "Y             0\n",
       "PdId          0\n",
       "Day           0\n",
       "month         0\n",
       "year          0\n",
       "year_month    0\n",
       "hour          0\n",
       "dtype: int64"
      ]
     },
     "execution_count": 16,
     "metadata": {},
     "output_type": "execute_result"
    }
   ],
   "source": [
    "df_import.isna().sum()"
   ]
  },
  {
   "cell_type": "code",
   "execution_count": 17,
   "metadata": {},
   "outputs": [
    {
     "name": "stderr",
     "output_type": "stream",
     "text": [
      "C:\\Users\\slava\\Anaconda3\\lib\\site-packages\\ipykernel_launcher.py:1: SettingWithCopyWarning: \n",
      "A value is trying to be set on a copy of a slice from a DataFrame\n",
      "\n",
      "See the caveats in the documentation: http://pandas.pydata.org/pandas-docs/stable/user_guide/indexing.html#returning-a-view-versus-a-copy\n",
      "  \"\"\"Entry point for launching an IPython kernel.\n"
     ]
    },
    {
     "data": {
      "text/html": [
       "<div>\n",
       "<style scoped>\n",
       "    .dataframe tbody tr th:only-of-type {\n",
       "        vertical-align: middle;\n",
       "    }\n",
       "\n",
       "    .dataframe tbody tr th {\n",
       "        vertical-align: top;\n",
       "    }\n",
       "\n",
       "    .dataframe thead th {\n",
       "        text-align: right;\n",
       "    }\n",
       "</style>\n",
       "<table border=\"1\" class=\"dataframe\">\n",
       "  <thead>\n",
       "    <tr style=\"text-align: right;\">\n",
       "      <th></th>\n",
       "      <th>IncidntNum</th>\n",
       "      <th>Category</th>\n",
       "      <th>Descript</th>\n",
       "      <th>DayOfWeek</th>\n",
       "      <th>Date</th>\n",
       "      <th>Time</th>\n",
       "      <th>PdDistrict</th>\n",
       "      <th>Address</th>\n",
       "      <th>X</th>\n",
       "      <th>Y</th>\n",
       "      <th>PdId</th>\n",
       "      <th>Day</th>\n",
       "      <th>month</th>\n",
       "      <th>year</th>\n",
       "      <th>year_month</th>\n",
       "      <th>hour</th>\n",
       "    </tr>\n",
       "  </thead>\n",
       "  <tbody>\n",
       "    <tr>\n",
       "      <td>0</td>\n",
       "      <td>146196161</td>\n",
       "      <td>NON-CRIMINAL</td>\n",
       "      <td>LOST PROPERTY</td>\n",
       "      <td>Tuesday</td>\n",
       "      <td>2014-09-23</td>\n",
       "      <td>01:00</td>\n",
       "      <td>SOUTHERN</td>\n",
       "      <td>800 Block of BRYANT ST</td>\n",
       "      <td>-122.403405</td>\n",
       "      <td>37.775421</td>\n",
       "      <td>14619616171000</td>\n",
       "      <td>23</td>\n",
       "      <td>9</td>\n",
       "      <td>2014</td>\n",
       "      <td>2014-09</td>\n",
       "      <td>1</td>\n",
       "    </tr>\n",
       "    <tr>\n",
       "      <td>1</td>\n",
       "      <td>150045675</td>\n",
       "      <td>ASSAULT</td>\n",
       "      <td>BATTERY</td>\n",
       "      <td>Thursday</td>\n",
       "      <td>2015-01-15</td>\n",
       "      <td>17:00</td>\n",
       "      <td>TARAVAL</td>\n",
       "      <td>1800 Block of VICENTE ST</td>\n",
       "      <td>-122.485604</td>\n",
       "      <td>37.738821</td>\n",
       "      <td>15004567504134</td>\n",
       "      <td>15</td>\n",
       "      <td>1</td>\n",
       "      <td>2015</td>\n",
       "      <td>2015-01</td>\n",
       "      <td>17</td>\n",
       "    </tr>\n",
       "    <tr>\n",
       "      <td>2</td>\n",
       "      <td>140632022</td>\n",
       "      <td>SUSPICIOUS OCC</td>\n",
       "      <td>INVESTIGATIVE DETENTION</td>\n",
       "      <td>Wednesday</td>\n",
       "      <td>2014-07-30</td>\n",
       "      <td>09:32</td>\n",
       "      <td>BAYVIEW</td>\n",
       "      <td>100 Block of GILLETTE AV</td>\n",
       "      <td>-122.396535</td>\n",
       "      <td>37.710660</td>\n",
       "      <td>14063202264085</td>\n",
       "      <td>30</td>\n",
       "      <td>7</td>\n",
       "      <td>2014</td>\n",
       "      <td>2014-07</td>\n",
       "      <td>9</td>\n",
       "    </tr>\n",
       "    <tr>\n",
       "      <td>3</td>\n",
       "      <td>150383259</td>\n",
       "      <td>ASSAULT</td>\n",
       "      <td>BATTERY</td>\n",
       "      <td>Saturday</td>\n",
       "      <td>2015-05-02</td>\n",
       "      <td>23:10</td>\n",
       "      <td>BAYVIEW</td>\n",
       "      <td>2400 Block of PHELPS ST</td>\n",
       "      <td>-122.400131</td>\n",
       "      <td>37.730093</td>\n",
       "      <td>15038325904134</td>\n",
       "      <td>2</td>\n",
       "      <td>5</td>\n",
       "      <td>2015</td>\n",
       "      <td>2015-05</td>\n",
       "      <td>23</td>\n",
       "    </tr>\n",
       "    <tr>\n",
       "      <td>4</td>\n",
       "      <td>40753980</td>\n",
       "      <td>OTHER OFFENSES</td>\n",
       "      <td>RECKLESS DRIVING</td>\n",
       "      <td>Friday</td>\n",
       "      <td>2004-07-02</td>\n",
       "      <td>13:43</td>\n",
       "      <td>BAYVIEW</td>\n",
       "      <td>I-280 / CESAR CHAVEZ ST</td>\n",
       "      <td>-120.500000</td>\n",
       "      <td>90.000000</td>\n",
       "      <td>4075398065020</td>\n",
       "      <td>2</td>\n",
       "      <td>7</td>\n",
       "      <td>2004</td>\n",
       "      <td>2004-07</td>\n",
       "      <td>13</td>\n",
       "    </tr>\n",
       "  </tbody>\n",
       "</table>\n",
       "</div>"
      ],
      "text/plain": [
       "   IncidntNum        Category                 Descript  DayOfWeek       Date  \\\n",
       "0   146196161    NON-CRIMINAL            LOST PROPERTY    Tuesday 2014-09-23   \n",
       "1   150045675         ASSAULT                  BATTERY   Thursday 2015-01-15   \n",
       "2   140632022  SUSPICIOUS OCC  INVESTIGATIVE DETENTION  Wednesday 2014-07-30   \n",
       "3   150383259         ASSAULT                  BATTERY   Saturday 2015-05-02   \n",
       "4    40753980  OTHER OFFENSES         RECKLESS DRIVING     Friday 2004-07-02   \n",
       "\n",
       "    Time PdDistrict                   Address           X          Y  \\\n",
       "0  01:00   SOUTHERN    800 Block of BRYANT ST -122.403405  37.775421   \n",
       "1  17:00    TARAVAL  1800 Block of VICENTE ST -122.485604  37.738821   \n",
       "2  09:32    BAYVIEW  100 Block of GILLETTE AV -122.396535  37.710660   \n",
       "3  23:10    BAYVIEW   2400 Block of PHELPS ST -122.400131  37.730093   \n",
       "4  13:43    BAYVIEW   I-280 / CESAR CHAVEZ ST -120.500000  90.000000   \n",
       "\n",
       "             PdId  Day  month  year year_month  hour  \n",
       "0  14619616171000   23      9  2014    2014-09     1  \n",
       "1  15004567504134   15      1  2015    2015-01    17  \n",
       "2  14063202264085   30      7  2014    2014-07     9  \n",
       "3  15038325904134    2      5  2015    2015-05    23  \n",
       "4   4075398065020    2      7  2004    2004-07    13  "
      ]
     },
     "execution_count": 17,
     "metadata": {},
     "output_type": "execute_result"
    }
   ],
   "source": [
    "df_import.dropna(inplace=True)\n",
    "df_import.reindex()\n",
    "df_import.head()"
   ]
  },
  {
   "cell_type": "code",
   "execution_count": 18,
   "metadata": {},
   "outputs": [
    {
     "data": {
      "text/plain": [
       "(2215023, 16)"
      ]
     },
     "execution_count": 18,
     "metadata": {},
     "output_type": "execute_result"
    }
   ],
   "source": [
    "df_import.shape"
   ]
  },
  {
   "cell_type": "markdown",
   "metadata": {},
   "source": [
    "# Data Visualisation"
   ]
  },
  {
   "cell_type": "markdown",
   "metadata": {},
   "source": [
    "__To get a better understanding of the data we will now visualise it.__\n",
    "\n",
    "Let's see the first 200000 cases because if we visualize the all data we will not understand it"
   ]
  },
  {
   "cell_type": "markdown",
   "metadata": {},
   "source": [
    "### Number of Crimes per month"
   ]
  },
  {
   "cell_type": "code",
   "execution_count": 19,
   "metadata": {},
   "outputs": [
    {
     "data": {
      "text/plain": [
       "Text(0.0, 1.0, 'Count of Cases Per Month')"
      ]
     },
     "execution_count": 19,
     "metadata": {},
     "output_type": "execute_result"
    },
    {
     "data": {
      "image/png": "[encoded data removed]",
      "text/plain": [
       "<Figure size 720x432 with 1 Axes>"
      ]
     },
     "metadata": {
      "needs_background": "light"
     },
     "output_type": "display_data"
    }
   ],
   "source": [
    "df_import[:200000].groupby('year_month').count().plot(y = 'IncidntNum', \n",
    "                                      kind='bar',\n",
    "                                      figsize=(10,6),\n",
    "                                      width=0.85,\n",
    "                                      fontsize=12,\n",
    "                                      colormap='tab20').legend(bbox_to_anchor=(1,1),\n",
    "                                                               prop={'size': 12})\n",
    "\n",
    "plt.xlabel('Month')\n",
    "plt.ylabel('Count of Cases')\n",
    "plt.title('Count of Cases Per Month', loc='left', fontsize=18)"
   ]
  },
  {
   "cell_type": "markdown",
   "metadata": {},
   "source": [
    "### Number of crimes occuring on each day"
   ]
  },
  {
   "cell_type": "code",
   "execution_count": 20,
   "metadata": {},
   "outputs": [
    {
     "data": {
      "text/plain": [
       "Text(0.0, 1.0, 'Count of Cases Per Day of Week [1 is a Tuesday]')"
      ]
     },
     "execution_count": 20,
     "metadata": {},
     "output_type": "execute_result"
    },
    {
     "data": {
      "image/png": "[encoded data removed]",
      "text/plain": [
       "<Figure size 720x432 with 1 Axes>"
      ]
     },
     "metadata": {
      "needs_background": "light"
     },
     "output_type": "display_data"
    }
   ],
   "source": [
    "df_import.groupby('Day').count().plot(y = 'IncidntNum',\n",
    "                               kind='bar',\n",
    "                               figsize=(10,6),\n",
    "                               width=0.85,\n",
    "                               fontsize=12,\n",
    "                               colormap='tab20').legend(bbox_to_anchor=(1,1),\n",
    "                                                        prop={'size': 12})\n",
    "\n",
    "plt.xlabel('Day of Week')\n",
    "plt.ylabel('Count of Cases per Day')\n",
    "plt.title('Count of Cases Per Day of Week [1 is a Tuesday]', loc='left', fontsize=18)"
   ]
  },
  {
   "cell_type": "markdown",
   "metadata": {},
   "source": [
    "### Number of crimes occuring in each hour "
   ]
  },
  {
   "cell_type": "code",
   "execution_count": 21,
   "metadata": {},
   "outputs": [
    {
     "data": {
      "text/plain": [
       "Text(0.0, 1.0, 'Count of Cases Per Hour]')"
      ]
     },
     "execution_count": 21,
     "metadata": {},
     "output_type": "execute_result"
    },
    {
     "data": {
      "image/png": "[encoded data removed]",
      "text/plain": [
       "<Figure size 720x432 with 1 Axes>"
      ]
     },
     "metadata": {
      "needs_background": "light"
     },
     "output_type": "display_data"
    }
   ],
   "source": [
    "df_import.groupby('hour').count().plot(y = 'IncidntNum',\n",
    "                               kind='bar',\n",
    "                               figsize=(10,6),\n",
    "                               width=0.85,\n",
    "                               fontsize=12,\n",
    "                               colormap='tab20').legend(bbox_to_anchor=(1,1),\n",
    "                                                        prop={'size': 12})\n",
    "\n",
    "plt.xlabel('Hour of Day')\n",
    "plt.ylabel('Count of Cases per Hour')\n",
    "plt.title('Count of Cases Per Hour]', loc='left', fontsize=18)"
   ]
  },
  {
   "cell_type": "code",
   "execution_count": 22,
   "metadata": {},
   "outputs": [
    {
     "data": {
      "text/plain": [
       "915"
      ]
     },
     "execution_count": 22,
     "metadata": {},
     "output_type": "execute_result"
    }
   ],
   "source": [
    "\n",
    "# Number of unique Crime categories bases on the Primary Description\n",
    "df_import.Descript.nunique()"
   ]
  },
  {
   "cell_type": "code",
   "execution_count": 23,
   "metadata": {},
   "outputs": [
    {
     "data": {
      "text/plain": [
       "39"
      ]
     },
     "execution_count": 23,
     "metadata": {},
     "output_type": "execute_result"
    }
   ],
   "source": [
    "df_import.Category.nunique()"
   ]
  },
  {
   "cell_type": "code",
   "execution_count": 24,
   "metadata": {},
   "outputs": [
    {
     "data": {
      "text/html": [
       "<div>\n",
       "<style scoped>\n",
       "    .dataframe tbody tr th:only-of-type {\n",
       "        vertical-align: middle;\n",
       "    }\n",
       "\n",
       "    .dataframe tbody tr th {\n",
       "        vertical-align: top;\n",
       "    }\n",
       "\n",
       "    .dataframe thead th {\n",
       "        text-align: right;\n",
       "    }\n",
       "</style>\n",
       "<table border=\"1\" class=\"dataframe\">\n",
       "  <thead>\n",
       "    <tr style=\"text-align: right;\">\n",
       "      <th></th>\n",
       "      <th>Category</th>\n",
       "      <th>IncidntNum</th>\n",
       "    </tr>\n",
       "  </thead>\n",
       "  <tbody>\n",
       "    <tr>\n",
       "      <td>16</td>\n",
       "      <td>LARCENY/THEFT</td>\n",
       "      <td>480447</td>\n",
       "    </tr>\n",
       "    <tr>\n",
       "      <td>21</td>\n",
       "      <td>OTHER OFFENSES</td>\n",
       "      <td>309358</td>\n",
       "    </tr>\n",
       "    <tr>\n",
       "      <td>20</td>\n",
       "      <td>NON-CRIMINAL</td>\n",
       "      <td>238323</td>\n",
       "    </tr>\n",
       "    <tr>\n",
       "      <td>1</td>\n",
       "      <td>ASSAULT</td>\n",
       "      <td>194694</td>\n",
       "    </tr>\n",
       "    <tr>\n",
       "      <td>36</td>\n",
       "      <td>VEHICLE THEFT</td>\n",
       "      <td>126602</td>\n",
       "    </tr>\n",
       "  </tbody>\n",
       "</table>\n",
       "</div>"
      ],
      "text/plain": [
       "          Category  IncidntNum\n",
       "16   LARCENY/THEFT      480447\n",
       "21  OTHER OFFENSES      309358\n",
       "20    NON-CRIMINAL      238323\n",
       "1          ASSAULT      194694\n",
       "36   VEHICLE THEFT      126602"
      ]
     },
     "execution_count": 24,
     "metadata": {},
     "output_type": "execute_result"
    }
   ],
   "source": [
    "df_import[['Category', 'IncidntNum']].groupby(\n",
    "    ['Category'], as_index=False).count().sort_values(\n",
    "    'IncidntNum', ascending=False).head(5)"
   ]
  },
  {
   "cell_type": "code",
   "execution_count": 25,
   "metadata": {},
   "outputs": [
    {
     "data": {
      "text/html": [
       "<div>\n",
       "<style scoped>\n",
       "    .dataframe tbody tr th:only-of-type {\n",
       "        vertical-align: middle;\n",
       "    }\n",
       "\n",
       "    .dataframe tbody tr th {\n",
       "        vertical-align: top;\n",
       "    }\n",
       "\n",
       "    .dataframe thead th {\n",
       "        text-align: right;\n",
       "    }\n",
       "</style>\n",
       "<table border=\"1\" class=\"dataframe\">\n",
       "  <thead>\n",
       "    <tr style=\"text-align: right;\">\n",
       "      <th></th>\n",
       "      <th>Descript</th>\n",
       "      <th>IncidntNum</th>\n",
       "    </tr>\n",
       "  </thead>\n",
       "  <tbody>\n",
       "    <tr>\n",
       "      <td>421</td>\n",
       "      <td>GRAND THEFT FROM LOCKED AUTO</td>\n",
       "      <td>178835</td>\n",
       "    </tr>\n",
       "    <tr>\n",
       "      <td>497</td>\n",
       "      <td>LOST PROPERTY</td>\n",
       "      <td>77956</td>\n",
       "    </tr>\n",
       "    <tr>\n",
       "      <td>138</td>\n",
       "      <td>BATTERY</td>\n",
       "      <td>67654</td>\n",
       "    </tr>\n",
       "    <tr>\n",
       "      <td>768</td>\n",
       "      <td>STOLEN AUTOMOBILE</td>\n",
       "      <td>64763</td>\n",
       "    </tr>\n",
       "    <tr>\n",
       "      <td>290</td>\n",
       "      <td>DRIVERS LICENSE, SUSPENDED OR REVOKED</td>\n",
       "      <td>62534</td>\n",
       "    </tr>\n",
       "  </tbody>\n",
       "</table>\n",
       "</div>"
      ],
      "text/plain": [
       "                                  Descript  IncidntNum\n",
       "421           GRAND THEFT FROM LOCKED AUTO      178835\n",
       "497                          LOST PROPERTY       77956\n",
       "138                                BATTERY       67654\n",
       "768                      STOLEN AUTOMOBILE       64763\n",
       "290  DRIVERS LICENSE, SUSPENDED OR REVOKED       62534"
      ]
     },
     "execution_count": 25,
     "metadata": {},
     "output_type": "execute_result"
    }
   ],
   "source": [
    "df_import[['Descript', 'IncidntNum']].groupby(\n",
    "    ['Descript'], as_index=False).count().sort_values(\n",
    "    'IncidntNum', ascending=False).head(5)"
   ]
  },
  {
   "cell_type": "code",
   "execution_count": 26,
   "metadata": {},
   "outputs": [],
   "source": [
    "top_crimes = df_import[['Category', 'IncidntNum']].groupby(\n",
    "    ['Category']).count().sort_values('IncidntNum', ascending=False)[:10].axes[0].tolist()\n",
    "\n",
    "\n",
    "top_three_crimes =df_import[['Category', 'IncidntNum']].groupby(\n",
    "    ['Category']).count().sort_values('IncidntNum', ascending=False)[:3].axes[0].tolist()\n",
    "\n",
    "\n",
    "top_two_crimes = df_import[['Category', 'IncidntNum']].groupby(\n",
    "    ['Category']).count().sort_values('IncidntNum', ascending=False)[:2].axes[0].tolist()"
   ]
  },
  {
   "cell_type": "code",
   "execution_count": 27,
   "metadata": {},
   "outputs": [
    {
     "data": {
      "text/plain": [
       "<matplotlib.axes._subplots.AxesSubplot at 0x2a99d5bf848>"
      ]
     },
     "execution_count": 27,
     "metadata": {},
     "output_type": "execute_result"
    },
    {
     "data": {
      "image/png": "[encoded data removed]",
      "text/plain": [
       "<Figure size 1080x432 with 1 Axes>"
      ]
     },
     "metadata": {
      "needs_background": "light"
     },
     "output_type": "display_data"
    }
   ],
   "source": [
    "# Create a new data frame with just the top 10 crimes\n",
    "df_top_crimes = df_import[df_import['Category'].isin(top_crimes)].copy()\n",
    "\n",
    "# Create a new data frame with just the top 10 crimes\n",
    "df_top3_crimes = df_import[df_import['Category'].isin(top_three_crimes)].copy()\n",
    "\n",
    "df_top3_crimes[['IncidntNum', 'Category', 'year_month']].pivot_table(\n",
    "    index='year_month', \n",
    "    columns='Category', \n",
    "    fill_value=0, \n",
    "    aggfunc='count').plot(kind='area',\n",
    "                          stacked=True,\n",
    "                          figsize=(15, 6),\n",
    "                               fontsize=12,\n",
    "                               colormap='tab20')"
   ]
  },
  {
   "cell_type": "code",
   "execution_count": 28,
   "metadata": {},
   "outputs": [
    {
     "data": {
      "text/plain": [
       "Text(0.0, 1.0, 'Count of Cases Per Hour]')"
      ]
     },
     "execution_count": 28,
     "metadata": {},
     "output_type": "execute_result"
    },
    {
     "data": {
      "image/png": "[encoded data removed]",
      "text/plain": [
       "<Figure size 1080x432 with 1 Axes>"
      ]
     },
     "metadata": {
      "needs_background": "light"
     },
     "output_type": "display_data"
    }
   ],
   "source": [
    "df_top3_crimes[['IncidntNum', 'Category', 'hour']].pivot_table(\n",
    "    index='hour', \n",
    "    columns='Category', \n",
    "    fill_value=0, \n",
    "    aggfunc='count').plot(kind='area',\n",
    "                          stacked=True,\n",
    "                          figsize=(15, 6),\n",
    "                               fontsize=12,\n",
    "                               colormap='tab20')\n",
    "\n",
    "plt.xlabel('Hour of Day')\n",
    "plt.ylabel('Count of Cases per Hour')\n",
    "plt.title('Count of Cases Per Hour]', loc='left', fontsize=18)"
   ]
  },
  {
   "cell_type": "markdown",
   "metadata": {},
   "source": [
    "# Data Preparation for Modelling"
   ]
  },
  {
   "cell_type": "markdown",
   "metadata": {},
   "source": [
    "Before we start modelling we need to prepare the data frame to include only mumerical data and by removing unneeded columns."
   ]
  },
  {
   "cell_type": "code",
   "execution_count": 29,
   "metadata": {},
   "outputs": [],
   "source": [
    "# Start by copying the Latitude and Longitude to the new DataFrame\n",
    "df_features = df_top_crimes[['Y', 'X']]\n",
    "\n",
    "# Next and One Hot Encoding of the hour and day \n",
    "df_features = df_features.join(pd.get_dummies(df_top_crimes.hour, prefix='hour'))\n",
    "df_features = df_features.join(pd.get_dummies(df_top_crimes.DayOfWeek))\n",
    "\n",
    "\n",
    "\n",
    "df_features['crimes'] = df_top_crimes[['Category']]"
   ]
  },
  {
   "cell_type": "code",
   "execution_count": 32,
   "metadata": {},
   "outputs": [
    {
     "data": {
      "text/html": [
       "<div>\n",
       "<style scoped>\n",
       "    .dataframe tbody tr th:only-of-type {\n",
       "        vertical-align: middle;\n",
       "    }\n",
       "\n",
       "    .dataframe tbody tr th {\n",
       "        vertical-align: top;\n",
       "    }\n",
       "\n",
       "    .dataframe thead th {\n",
       "        text-align: right;\n",
       "    }\n",
       "</style>\n",
       "<table border=\"1\" class=\"dataframe\">\n",
       "  <thead>\n",
       "    <tr style=\"text-align: right;\">\n",
       "      <th></th>\n",
       "      <th>Y</th>\n",
       "      <th>X</th>\n",
       "      <th>hour_0</th>\n",
       "      <th>hour_1</th>\n",
       "      <th>hour_2</th>\n",
       "      <th>hour_3</th>\n",
       "      <th>hour_4</th>\n",
       "      <th>hour_5</th>\n",
       "      <th>hour_6</th>\n",
       "      <th>hour_7</th>\n",
       "      <th>hour_8</th>\n",
       "      <th>hour_9</th>\n",
       "      <th>hour_10</th>\n",
       "      <th>hour_11</th>\n",
       "      <th>hour_12</th>\n",
       "      <th>hour_13</th>\n",
       "      <th>hour_14</th>\n",
       "      <th>hour_15</th>\n",
       "      <th>hour_16</th>\n",
       "      <th>hour_17</th>\n",
       "      <th>hour_18</th>\n",
       "      <th>hour_19</th>\n",
       "      <th>hour_20</th>\n",
       "      <th>hour_21</th>\n",
       "      <th>hour_22</th>\n",
       "      <th>hour_23</th>\n",
       "      <th>Friday</th>\n",
       "      <th>Monday</th>\n",
       "      <th>Saturday</th>\n",
       "      <th>Sunday</th>\n",
       "      <th>Thursday</th>\n",
       "      <th>Tuesday</th>\n",
       "      <th>Wednesday</th>\n",
       "      <th>crimes</th>\n",
       "    </tr>\n",
       "  </thead>\n",
       "  <tbody>\n",
       "    <tr>\n",
       "      <td>0</td>\n",
       "      <td>37.775421</td>\n",
       "      <td>-122.403405</td>\n",
       "      <td>0</td>\n",
       "      <td>1</td>\n",
       "      <td>0</td>\n",
       "      <td>0</td>\n",
       "      <td>0</td>\n",
       "      <td>0</td>\n",
       "      <td>0</td>\n",
       "      <td>0</td>\n",
       "      <td>0</td>\n",
       "      <td>0</td>\n",
       "      <td>0</td>\n",
       "      <td>0</td>\n",
       "      <td>0</td>\n",
       "      <td>0</td>\n",
       "      <td>0</td>\n",
       "      <td>0</td>\n",
       "      <td>0</td>\n",
       "      <td>0</td>\n",
       "      <td>0</td>\n",
       "      <td>0</td>\n",
       "      <td>0</td>\n",
       "      <td>0</td>\n",
       "      <td>0</td>\n",
       "      <td>0</td>\n",
       "      <td>0</td>\n",
       "      <td>0</td>\n",
       "      <td>0</td>\n",
       "      <td>0</td>\n",
       "      <td>0</td>\n",
       "      <td>1</td>\n",
       "      <td>0</td>\n",
       "      <td>NON-CRIMINAL</td>\n",
       "    </tr>\n",
       "    <tr>\n",
       "      <td>1</td>\n",
       "      <td>37.738821</td>\n",
       "      <td>-122.485604</td>\n",
       "      <td>0</td>\n",
       "      <td>0</td>\n",
       "      <td>0</td>\n",
       "      <td>0</td>\n",
       "      <td>0</td>\n",
       "      <td>0</td>\n",
       "      <td>0</td>\n",
       "      <td>0</td>\n",
       "      <td>0</td>\n",
       "      <td>0</td>\n",
       "      <td>0</td>\n",
       "      <td>0</td>\n",
       "      <td>0</td>\n",
       "      <td>0</td>\n",
       "      <td>0</td>\n",
       "      <td>0</td>\n",
       "      <td>0</td>\n",
       "      <td>1</td>\n",
       "      <td>0</td>\n",
       "      <td>0</td>\n",
       "      <td>0</td>\n",
       "      <td>0</td>\n",
       "      <td>0</td>\n",
       "      <td>0</td>\n",
       "      <td>0</td>\n",
       "      <td>0</td>\n",
       "      <td>0</td>\n",
       "      <td>0</td>\n",
       "      <td>1</td>\n",
       "      <td>0</td>\n",
       "      <td>0</td>\n",
       "      <td>ASSAULT</td>\n",
       "    </tr>\n",
       "    <tr>\n",
       "      <td>2</td>\n",
       "      <td>37.710660</td>\n",
       "      <td>-122.396535</td>\n",
       "      <td>0</td>\n",
       "      <td>0</td>\n",
       "      <td>0</td>\n",
       "      <td>0</td>\n",
       "      <td>0</td>\n",
       "      <td>0</td>\n",
       "      <td>0</td>\n",
       "      <td>0</td>\n",
       "      <td>0</td>\n",
       "      <td>1</td>\n",
       "      <td>0</td>\n",
       "      <td>0</td>\n",
       "      <td>0</td>\n",
       "      <td>0</td>\n",
       "      <td>0</td>\n",
       "      <td>0</td>\n",
       "      <td>0</td>\n",
       "      <td>0</td>\n",
       "      <td>0</td>\n",
       "      <td>0</td>\n",
       "      <td>0</td>\n",
       "      <td>0</td>\n",
       "      <td>0</td>\n",
       "      <td>0</td>\n",
       "      <td>0</td>\n",
       "      <td>0</td>\n",
       "      <td>0</td>\n",
       "      <td>0</td>\n",
       "      <td>0</td>\n",
       "      <td>0</td>\n",
       "      <td>1</td>\n",
       "      <td>SUSPICIOUS OCC</td>\n",
       "    </tr>\n",
       "    <tr>\n",
       "      <td>3</td>\n",
       "      <td>37.730093</td>\n",
       "      <td>-122.400131</td>\n",
       "      <td>0</td>\n",
       "      <td>0</td>\n",
       "      <td>0</td>\n",
       "      <td>0</td>\n",
       "      <td>0</td>\n",
       "      <td>0</td>\n",
       "      <td>0</td>\n",
       "      <td>0</td>\n",
       "      <td>0</td>\n",
       "      <td>0</td>\n",
       "      <td>0</td>\n",
       "      <td>0</td>\n",
       "      <td>0</td>\n",
       "      <td>0</td>\n",
       "      <td>0</td>\n",
       "      <td>0</td>\n",
       "      <td>0</td>\n",
       "      <td>0</td>\n",
       "      <td>0</td>\n",
       "      <td>0</td>\n",
       "      <td>0</td>\n",
       "      <td>0</td>\n",
       "      <td>0</td>\n",
       "      <td>1</td>\n",
       "      <td>0</td>\n",
       "      <td>0</td>\n",
       "      <td>1</td>\n",
       "      <td>0</td>\n",
       "      <td>0</td>\n",
       "      <td>0</td>\n",
       "      <td>0</td>\n",
       "      <td>ASSAULT</td>\n",
       "    </tr>\n",
       "    <tr>\n",
       "      <td>4</td>\n",
       "      <td>90.000000</td>\n",
       "      <td>-120.500000</td>\n",
       "      <td>0</td>\n",
       "      <td>0</td>\n",
       "      <td>0</td>\n",
       "      <td>0</td>\n",
       "      <td>0</td>\n",
       "      <td>0</td>\n",
       "      <td>0</td>\n",
       "      <td>0</td>\n",
       "      <td>0</td>\n",
       "      <td>0</td>\n",
       "      <td>0</td>\n",
       "      <td>0</td>\n",
       "      <td>0</td>\n",
       "      <td>1</td>\n",
       "      <td>0</td>\n",
       "      <td>0</td>\n",
       "      <td>0</td>\n",
       "      <td>0</td>\n",
       "      <td>0</td>\n",
       "      <td>0</td>\n",
       "      <td>0</td>\n",
       "      <td>0</td>\n",
       "      <td>0</td>\n",
       "      <td>0</td>\n",
       "      <td>1</td>\n",
       "      <td>0</td>\n",
       "      <td>0</td>\n",
       "      <td>0</td>\n",
       "      <td>0</td>\n",
       "      <td>0</td>\n",
       "      <td>0</td>\n",
       "      <td>OTHER OFFENSES</td>\n",
       "    </tr>\n",
       "  </tbody>\n",
       "</table>\n",
       "</div>"
      ],
      "text/plain": [
       "           Y           X  hour_0  hour_1  hour_2  hour_3  hour_4  hour_5  \\\n",
       "0  37.775421 -122.403405       0       1       0       0       0       0   \n",
       "1  37.738821 -122.485604       0       0       0       0       0       0   \n",
       "2  37.710660 -122.396535       0       0       0       0       0       0   \n",
       "3  37.730093 -122.400131       0       0       0       0       0       0   \n",
       "4  90.000000 -120.500000       0       0       0       0       0       0   \n",
       "\n",
       "   hour_6  hour_7  hour_8  hour_9  hour_10  hour_11  hour_12  hour_13  \\\n",
       "0       0       0       0       0        0        0        0        0   \n",
       "1       0       0       0       0        0        0        0        0   \n",
       "2       0       0       0       1        0        0        0        0   \n",
       "3       0       0       0       0        0        0        0        0   \n",
       "4       0       0       0       0        0        0        0        1   \n",
       "\n",
       "   hour_14  hour_15  hour_16  hour_17  hour_18  hour_19  hour_20  hour_21  \\\n",
       "0        0        0        0        0        0        0        0        0   \n",
       "1        0        0        0        1        0        0        0        0   \n",
       "2        0        0        0        0        0        0        0        0   \n",
       "3        0        0        0        0        0        0        0        0   \n",
       "4        0        0        0        0        0        0        0        0   \n",
       "\n",
       "   hour_22  hour_23  Friday  Monday  Saturday  Sunday  Thursday  Tuesday  \\\n",
       "0        0        0       0       0         0       0         0        1   \n",
       "1        0        0       0       0         0       0         1        0   \n",
       "2        0        0       0       0         0       0         0        0   \n",
       "3        0        1       0       0         1       0         0        0   \n",
       "4        0        0       1       0         0       0         0        0   \n",
       "\n",
       "   Wednesday          crimes  \n",
       "0          0    NON-CRIMINAL  \n",
       "1          0         ASSAULT  \n",
       "2          1  SUSPICIOUS OCC  \n",
       "3          0         ASSAULT  \n",
       "4          0  OTHER OFFENSES  "
      ]
     },
     "execution_count": 32,
     "metadata": {},
     "output_type": "execute_result"
    }
   ],
   "source": [
    "df_features.head()"
   ]
  },
  {
   "cell_type": "code",
   "execution_count": 36,
   "metadata": {},
   "outputs": [],
   "source": [
    "df_features_3 = df_features[df_features['crimes'].isin(top_three_crimes)].copy()\n",
    "\n",
    "# Create a smaller DataFrame of only the top two crimes\n",
    "df_features_2 = df_features[df_features['crimes'].isin(top_two_crimes)].copy()"
   ]
  },
  {
   "cell_type": "code",
   "execution_count": 37,
   "metadata": {},
   "outputs": [],
   "source": [
    "X_10 = df_features.copy()\n",
    "y_10 = X_10.crimes.values\n",
    "\n",
    "X_10.drop('crimes', axis=1, inplace=True)\n",
    "X_10 = preprocessing.StandardScaler().fit(X_10).transform(X_10)\n",
    "\n",
    "\n",
    "X_3 = df_features_3.copy()\n",
    "y_3 = X_3.crimes.values\n",
    "\n",
    "X_3.drop('crimes', axis=1, inplace=True)\n",
    "X_3 = preprocessing.StandardScaler().fit(X_3).transform(X_3)\n",
    "\n",
    "X_2 = df_features_2.copy()\n",
    "y_2 = X_2.crimes.values\n",
    "\n",
    "X_2.drop('crimes', axis=1, inplace=True)\n",
    "X_2 = preprocessing.StandardScaler().fit(X_2).transform(X_2)"
   ]
  },
  {
   "cell_type": "code",
   "execution_count": 40,
   "metadata": {},
   "outputs": [],
   "source": [
    "def cross_validate(model, n_splits = 10):\n",
    "    \n",
    "    k_fold = KFold(n_splits = n_splits)\n",
    "    scores = [model.fit(X[train], y[train]).score(X[test], y[test]) for train, test in k_fold.split(X)]\n",
    "    \n",
    "    scores = np.percentile(scores, [40, 50, 60])\n",
    "    return scores"
   ]
  },
  {
   "cell_type": "markdown",
   "metadata": {},
   "source": [
    "# K Nearest Neighbor(KNN)"
   ]
  },
  {
   "cell_type": "code",
   "execution_count": 41,
   "metadata": {},
   "outputs": [
    {
     "name": "stdout",
     "output_type": "stream",
     "text": [
      "Heighbours:  5  \n",
      "Heighbours:  6  \n",
      "Heighbours:  7  \n",
      "Heighbours:  8  \n",
      "Heighbours:  9  \n",
      "Heighbours:  10  \n",
      "Heighbours:  11  \n"
     ]
    },
    {
     "data": {
      "image/png": "[encoded data removed]",
      "text/plain": [
       "<Figure size 432x288 with 1 Axes>"
      ]
     },
     "metadata": {
      "needs_background": "light"
     },
     "output_type": "display_data"
    }
   ],
   "source": [
    "# Number of neighbours\n",
    "neighs = range(5, 12)\n",
    "\n",
    "# Store the scores\n",
    "scores = np.zeros((len(neighs), 3))\n",
    "\n",
    "for idx, neigh in enumerate(neighs):\n",
    "    print('Heighbours: ', neigh, ' ')\n",
    "    model = KNeighborsClassifier(n_neighbors = neigh)\n",
    "    scores[idx, : ] = cross_validate(model, n_splits = 5)\n",
    "\n",
    "plt.plot(neighs, scores[ : , 1], 'b')\n",
    "plt.fill_between(neighs, scores[ : , 0], scores[:, 2], alpha = 0.1)\n",
    "plt.legend(('Median', '(40, 60) percentile'))\n",
    "plt.ylabel('Accuracy')\n",
    "plt.xlabel('Number of Neighbors')\n",
    "plt.tight_layout()\n",
    "plt.show()"
   ]
  },
  {
   "cell_type": "markdown",
   "metadata": {},
   "source": [
    "# Random Forest"
   ]
  },
  {
   "cell_type": "code",
   "execution_count": 42,
   "metadata": {},
   "outputs": [
    {
     "name": "stdout",
     "output_type": "stream",
     "text": [
      "Estimator:  12  \n",
      "Estimator:  13  \n",
      "Estimator:  14  \n",
      "Estimator:  15  \n"
     ]
    },
    {
     "data": {
      "image/png": "[encoded data removed]",
      "text/plain": [
       "<Figure size 432x288 with 1 Axes>"
      ]
     },
     "metadata": {
      "needs_background": "light"
     },
     "output_type": "display_data"
    }
   ],
   "source": [
    "est = range(12, 16)\n",
    "scores = np.zeros((len(est), 3))\n",
    "for idx, a in enumerate(est):\n",
    "    print('Estimator: ', a, ' ')\n",
    "    model = RandomForestClassifier(n_estimators = a, max_features = 'sqrt')\n",
    "    scores[idx, : ] = cross_validate(model, n_splits = 10)\n",
    "\n",
    "plt.plot(est, scores[ : , 1], 'b')\n",
    "plt.fill_between(est, scores[ : , 0], scores[:, 2], alpha = 0.1)\n",
    "plt.legend(('Median', '(40, 60) percentile'))\n",
    "plt.ylabel('Accuracy')\n",
    "plt.xlabel('Number of Neighbors')\n",
    "plt.tight_layout()\n",
    "plt.show()"
   ]
  },
  {
   "cell_type": "markdown",
   "metadata": {},
   "source": [
    "# Logistic Regression"
   ]
  },
  {
   "cell_type": "code",
   "execution_count": 43,
   "metadata": {},
   "outputs": [
    {
     "name": "stdout",
     "output_type": "stream",
     "text": [
      "C:  0.01  \n",
      "C:  0.03162277660168379  \n",
      "C:  0.1  \n",
      "C:  0.31622776601683794  \n",
      "C:  1.0  \n",
      "C:  3.1622776601683795  \n"
     ]
    },
    {
     "data": {
      "image/png": "[encoded data removed]",
      "text/plain": [
       "<Figure size 432x288 with 1 Axes>"
      ]
     },
     "metadata": {
      "needs_background": "light"
     },
     "output_type": "display_data"
    }
   ],
   "source": [
    "from sklearn.linear_model import LogisticRegression\n",
    "\n",
    "C = np.logspace(-2.0, 0.5, num = 6, endpoint = True)\n",
    "scores = np.zeros((len(C), 3))\n",
    "for idx, c in enumerate(C):\n",
    "    print('C: ', c, ' ')\n",
    "    model = LogisticRegression(C = c, solver = 'liblinear')\n",
    "    scores[idx, : ] = cross_validate(model, n_splits = 10)\n",
    "\n",
    "plt.plot(C, scores[ : , 1], 'b')\n",
    "plt.xscale('log')\n",
    "plt.fill_between(C, scores[ : , 0], scores[:, 2], alpha = 0.1)\n",
    "plt.legend(('Median', '(40, 60) percentile'))\n",
    "plt.ylabel('Accuracy')\n",
    "plt.xlabel('C')\n",
    "plt.tight_layout()\n",
    "plt.show()"
   ]
  },
  {
   "cell_type": "markdown",
   "metadata": {},
   "source": [
    "# Decision Tree"
   ]
  },
  {
   "cell_type": "code",
   "execution_count": 45,
   "metadata": {},
   "outputs": [
    {
     "name": "stdout",
     "output_type": "stream",
     "text": [
      "Depth:  10  \n",
      "Depth:  11  \n",
      "Depth:  12  \n",
      "Depth:  13  \n",
      "Depth:  14  \n",
      "Depth:  15  \n",
      "Depth:  16  \n",
      "Depth:  17  \n",
      "Depth:  18  \n",
      "Depth:  19  \n",
      "Depth:  20  \n"
     ]
    },
    {
     "data": {
      "image/png": "[encoded data removed]",
      "text/plain": [
       "<Figure size 432x288 with 1 Axes>"
      ]
     },
     "metadata": {
      "needs_background": "light"
     },
     "output_type": "display_data"
    }
   ],
   "source": [
    "from sklearn.tree import DecisionTreeClassifier\n",
    "\n",
    "depths = range(10, 21)\n",
    "scores = np.zeros((len(depths), 3))\n",
    "for idx, depth in enumerate(depths):\n",
    "    print('Depth: ', depth, ' ')\n",
    "    model = DecisionTreeClassifier(criterion = \"entropy\", max_depth = depth)\n",
    "    scores[idx, : ] = cross_validate(model, n_splits = 10)\n",
    "\n",
    "plt.plot(depths, scores[ : , 1], 'b')\n",
    "plt.fill_between(depths, scores[ : , 0], scores[:, 2], alpha = 0.1)\n",
    "plt.legend(('Median', '(40, 60) percentile'))\n",
    "plt.ylabel('Accuracy')\n",
    "plt.xlabel('Depth')\n",
    "plt.tight_layout()\n",
    "plt.show()"
   ]
  },
  {
   "cell_type": "code",
   "execution_count": 46,
   "metadata": {},
   "outputs": [],
   "source": [
    "from sklearn.model_selection import train_test_split\n",
    "X = X_10\n",
    "y = y_10\n",
    "X_train, X_test, y_train, y_test = train_test_split( X, y, test_size=0.33, random_state=42)"
   ]
  },
  {
   "cell_type": "code",
   "execution_count": 58,
   "metadata": {},
   "outputs": [
    {
     "name": "stdout",
     "output_type": "stream",
     "text": [
      "0.51\n"
     ]
    }
   ],
   "source": [
    "from sklearn.metrics import f1_score\n",
    "from sklearn.metrics import accuracy_score\n",
    "#K Nearest Neighbor(KNN)\n",
    "model = KNeighborsClassifier(n_neighbors = 6)\n",
    "model.fit(X_train, y_train)\n",
    "y_pred=model.predict(X_test)\n",
    "accuracy_score(y_test, y_pred)"
   ]
  },
  {
   "cell_type": "code",
   "execution_count": 57,
   "metadata": {},
   "outputs": [
    {
     "name": "stdout",
     "output_type": "stream",
     "text": [
      "0.89\n"
     ]
    }
   ],
   "source": [
    "#Random Forest\n",
    "model = RandomForestClassifier(n_estimators = 14, max_features = 'sqrt')\n",
    "model.fit(X_train, y_train)\n",
    "y_pred=model.predict(X_test)\n",
    "accuracy_score(y_test, y_pred)"
   ]
  },
  {
   "cell_type": "code",
   "execution_count": 52,
   "metadata": {},
   "outputs": [
    {
     "name": "stderr",
     "output_type": "stream",
     "text": [
      "C:\\Users\\slava\\Anaconda3\\lib\\site-packages\\sklearn\\linear_model\\logistic.py:469: FutureWarning: Default multi_class will be changed to 'auto' in 0.22. Specify the multi_class option to silence this warning.\n",
      "  \"this warning.\", FutureWarning)\n"
     ]
    },
    {
     "data": {
      "text/plain": [
       "0.3389090909090909"
      ]
     },
     "execution_count": 52,
     "metadata": {},
     "output_type": "execute_result"
    }
   ],
   "source": [
    "#Logistic Regression\n",
    "model = LogisticRegression(C = 3.1622776601683795  , solver = 'liblinear')\n",
    "model.fit(X_train, y_train)\n",
    "y_pred=model.predict(X_test)\n",
    "accuracy_score(y_test, y_pred)"
   ]
  },
  {
   "cell_type": "code",
   "execution_count": 59,
   "metadata": {},
   "outputs": [
    {
     "name": "stdout",
     "output_type": "stream",
     "text": [
      "0.6321\n"
     ]
    }
   ],
   "source": [
    "#Decision Tree\n",
    "model = DecisionTreeClassifier(criterion = \"entropy\", max_depth = 100)\n",
    "model.fit(X_train, y_train)\n",
    "y_pred=model.predict(X_test)\n",
    "accuracy_score(y_test, y_pred)"
   ]
  },
  {
   "cell_type": "code",
   "execution_count": null,
   "metadata": {},
   "outputs": [],
   "source": []
  }
 ],
 "metadata": {
  "kernelspec": {
   "display_name": "Python 3",
   "language": "python",
   "name": "python3"
  },
  "language_info": {
   "codemirror_mode": {
    "name": "ipython",
    "version": 3
   },
   "file_extension": ".py",
   "mimetype": "text/x-python",
   "name": "python",
   "nbconvert_exporter": "python",
   "pygments_lexer": "ipython3",
   "version": "3.7.4"
  }
 },
 "nbformat": 4,
 "nbformat_minor": 2
}
